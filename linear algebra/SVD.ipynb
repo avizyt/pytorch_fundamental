{
 "cells": [
  {
   "cell_type": "code",
   "execution_count": 1,
   "metadata": {},
   "outputs": [],
   "source": [
    "import numpy as np\n",
    "import pandas as pd\n",
    "import matplotlib.pyplot as plt\n",
    "import scipy.linalg as sl "
   ]
  },
  {
   "cell_type": "code",
   "execution_count": 7,
   "metadata": {},
   "outputs": [],
   "source": [
    "a = np.random.randn(9,6)\n",
    "b = np.random.randn(2,7,8,3)"
   ]
  },
  {
   "cell_type": "code",
   "execution_count": 8,
   "metadata": {},
   "outputs": [
    {
     "name": "stdout",
     "output_type": "stream",
     "text": [
      "[[ 0.74274457  0.44330512  0.07746407  0.5793393   0.19812388 -0.24068689]\n",
      " [ 0.64218355 -0.38681953  0.58883674  1.66637202  2.30385722 -0.82528048]\n",
      " [-0.89844005 -0.31095709  0.11373537  0.9053291  -0.21945611  0.44333793]\n",
      " [-2.12855402 -0.34966926 -0.61228501 -1.0219145  -0.78152651 -0.16783282]\n",
      " [ 0.98089147  0.01186008 -1.28601589 -0.63582473  1.26968167  0.62869428]\n",
      " [-0.36470867  1.00410062  0.35983563  1.46724179  0.67082279  0.74179939]\n",
      " [-0.5938859   0.06402381  0.6303378   0.58704446  0.05237555 -1.10920581]\n",
      " [-1.09290353 -0.21325532  0.65258717 -0.79658434  0.01625497  0.90642596]\n",
      " [ 2.09945729 -2.05463499 -1.04615565 -2.11425187  0.57132372 -0.44550723]]\n"
     ]
    }
   ],
   "source": [
    "print(a)"
   ]
  },
  {
   "cell_type": "code",
   "execution_count": 11,
   "metadata": {},
   "outputs": [
    {
     "name": "stdout",
     "output_type": "stream",
     "text": [
      "[[[[ 1.29955631e+00  1.70753237e+00 -6.75844772e-01]\n",
      "   [ 8.52950005e-01  1.93832639e+00 -2.11204033e+00]\n",
      "   [ 5.75375273e-01 -2.22359411e+00 -4.53699807e-01]\n",
      "   [ 7.34101167e-01  1.63647964e+00  1.08806111e+00]\n",
      "   [ 1.82071902e+00  1.09482691e+00  6.83417442e-01]\n",
      "   [-2.21420728e-01  3.55332771e-01 -9.32072661e-01]\n",
      "   [ 1.68543465e-01 -3.37701912e-01  2.46216413e+00]\n",
      "   [ 1.61441612e+00  1.46924520e+00  7.18699861e-02]]\n",
      "\n",
      "  [[-5.64945566e-01  2.74409157e-01 -1.39514669e-01]\n",
      "   [-1.08491780e+00  1.21255580e+00 -3.04407967e-01]\n",
      "   [ 1.04818851e+00  1.56492732e+00  3.12087170e-01]\n",
      "   [ 7.53009899e-03  9.34350305e-02  4.85018242e-02]\n",
      "   [ 1.41497759e+00  4.48980689e-01 -5.16245937e-01]\n",
      "   [-7.43869044e-01 -2.07583483e-01  1.30056494e+00]\n",
      "   [ 1.30800766e-01  1.48838003e+00 -1.44878906e+00]\n",
      "   [-3.16582331e-01 -9.67760136e-01  4.99314175e-01]]\n",
      "\n",
      "  [[-2.40443358e+00  1.70313865e+00  8.73014050e-01]\n",
      "   [ 6.58383700e-01  7.61884143e-01 -5.37489243e-01]\n",
      "   [-7.54979372e-01  9.92060242e-01 -5.00294191e-01]\n",
      "   [-1.51327760e+00 -3.69059084e-02  1.70121648e+00]\n",
      "   [-9.51118292e-02  1.59718442e+00 -3.38880503e-01]\n",
      "   [-1.15345747e+00  2.32588611e+00  1.23656040e+00]\n",
      "   [ 5.62001286e-01  3.39261788e-01 -5.98166406e-01]\n",
      "   [-5.61724598e-02  1.09311334e+00 -7.11205292e-01]]\n",
      "\n",
      "  [[-5.15344671e-01 -8.19379640e-04 -9.91019405e-02]\n",
      "   [ 5.63706440e-02 -2.53729721e-01  5.00777381e-01]\n",
      "   [-5.71851089e-01  2.88728846e-02  4.26841526e-01]\n",
      "   [-4.62135546e-01 -3.58692357e-01  1.97986227e+00]\n",
      "   [ 2.35532908e+00  2.17436713e+00 -1.65106285e+00]\n",
      "   [ 1.41924214e+00  1.09606839e+00  7.09275754e-01]\n",
      "   [-8.52541677e-01 -1.36788052e-01  1.77024426e+00]\n",
      "   [ 5.57920177e-02 -2.06519301e+00  1.42356025e+00]]\n",
      "\n",
      "  [[-1.87700398e-02 -2.89782914e-01 -1.28628867e+00]\n",
      "   [ 6.74818377e-01 -8.58135878e-01  4.31190100e-01]\n",
      "   [ 2.00011239e+00 -8.44465277e-01  1.15163142e+00]\n",
      "   [-2.78461130e-01 -1.01534014e+00  7.89482666e-01]\n",
      "   [-6.65773259e-01  5.54326813e-01 -2.16672629e+00]\n",
      "   [ 1.33903350e+00 -1.80546923e+00  7.14526273e-01]\n",
      "   [ 1.97143303e+00  1.33287884e+00 -4.45478670e-01]\n",
      "   [ 6.52162944e-01  1.47060598e+00 -8.99278244e-01]]\n",
      "\n",
      "  [[-5.03434766e-02  6.06434170e-01  9.49205118e-01]\n",
      "   [-9.32143068e-01 -1.15572390e+00  8.38172890e-01]\n",
      "   [-5.10400339e-01  1.94187553e+00 -7.83156458e-02]\n",
      "   [ 1.66991462e+00  1.39559120e+00  6.11123808e-01]\n",
      "   [ 4.69697783e-01  1.08994004e+00  4.02234393e-01]\n",
      "   [ 1.62089264e+00  7.69069884e-01 -2.89149385e-01]\n",
      "   [-3.00436574e-01  3.84539992e-02 -1.33905858e+00]\n",
      "   [ 4.98333671e-02 -9.53738175e-01 -2.86300301e-01]]\n",
      "\n",
      "  [[-6.77400127e-01 -4.06053119e-01 -2.15352750e-01]\n",
      "   [-1.11305484e-01 -1.84196971e+00 -1.42581741e-01]\n",
      "   [ 6.39470554e-01  1.21175576e+00  1.42917962e+00]\n",
      "   [ 5.76143480e-01 -2.48716410e+00 -1.70296423e-01]\n",
      "   [-4.63131767e-01  1.11133124e+00  1.56129163e+00]\n",
      "   [ 2.96639425e-01 -7.11991451e-01  8.30515688e-01]\n",
      "   [-9.36408976e-01 -7.14017900e-01  6.02260817e-01]\n",
      "   [-2.21473584e+00 -2.85704701e-01 -5.27780742e-01]]]\n",
      "\n",
      "\n",
      " [[[ 3.31776776e-01  7.42114428e-01  8.52526636e-01]\n",
      "   [ 1.05600546e+00 -6.90575894e-01  9.05024871e-01]\n",
      "   [-3.31016224e-01  1.28951187e-01 -1.50165778e+00]\n",
      "   [-2.96944175e-01  1.50243004e+00 -6.63300397e-01]\n",
      "   [ 3.08177730e-01 -2.05985645e-01  1.14966969e+00]\n",
      "   [-7.34594624e-01  2.93377246e-01  1.55554475e+00]\n",
      "   [ 5.01029389e-01  1.72819513e-01 -8.20654533e-01]\n",
      "   [ 6.65447256e-01  7.49724130e-01 -7.07942373e-01]]\n",
      "\n",
      "  [[ 1.35695890e+00 -2.27233102e+00  3.91670281e-01]\n",
      "   [-4.74680089e-01  1.20114487e+00  7.12845867e-01]\n",
      "   [-1.51949598e+00 -4.22912652e-01 -1.16941173e+00]\n",
      "   [-3.98310028e-01 -2.36573467e+00 -2.99531491e-02]\n",
      "   [ 5.30632181e-01 -9.10269114e-01  9.41582417e-01]\n",
      "   [ 5.05716894e-03 -1.22393678e-01  3.39031987e-01]\n",
      "   [-4.68124389e-01 -1.12138983e-01  9.39880207e-01]\n",
      "   [ 1.10058237e+00 -6.35129488e-01  5.29060422e-01]]\n",
      "\n",
      "  [[ 1.22804295e+00  1.16187142e+00 -1.15742991e+00]\n",
      "   [-2.21194135e-02 -2.46013616e-01  5.45369624e-01]\n",
      "   [ 1.09332362e+00  1.19686840e+00  1.28954437e+00]\n",
      "   [ 1.59690106e+00  2.25164867e+00 -1.22551979e+00]\n",
      "   [-1.21266447e+00 -5.68477770e-01 -1.46811318e-01]\n",
      "   [ 7.71752123e-01 -1.27816111e-01  2.75492254e-01]\n",
      "   [-3.30983492e-01 -3.40589710e-02 -1.09694833e+00]\n",
      "   [-1.76855996e+00 -5.15831007e-01 -8.70615919e-01]]\n",
      "\n",
      "  [[ 4.36423117e-01  1.72881319e-01 -4.30968456e-03]\n",
      "   [-3.30253040e-01  4.26291800e-01  1.95753510e+00]\n",
      "   [ 1.80964007e+00 -8.09943479e-01 -3.34310305e-01]\n",
      "   [ 7.49341213e-01  5.56814983e-01  8.94461084e-01]\n",
      "   [-3.68468703e-01  9.18135567e-01  8.15966018e-01]\n",
      "   [ 1.25552833e+00 -6.50649593e-01 -1.20556131e+00]\n",
      "   [ 4.98467738e-01 -1.72664085e-01  2.23344009e-01]\n",
      "   [ 9.47224102e-02 -1.47424906e+00  1.70481817e+00]]\n",
      "\n",
      "  [[ 8.27516241e-02 -1.15952834e+00 -1.85608235e+00]\n",
      "   [ 1.89052850e-01 -9.22870979e-01 -1.46383241e-01]\n",
      "   [-2.71749518e+00 -3.01174593e-01 -1.29619527e+00]\n",
      "   [ 1.07524874e+00  1.01677210e-01 -3.63883298e-01]\n",
      "   [ 1.87439286e+00 -4.21732141e-01  2.78015952e+00]\n",
      "   [-5.95688617e-01 -1.82816197e+00  1.56038961e+00]\n",
      "   [ 2.21124954e-02 -1.28940720e-01  2.15059238e-01]\n",
      "   [-1.47831569e+00 -1.44438407e-01 -1.66838501e-01]]\n",
      "\n",
      "  [[-5.81084232e-01 -1.03393705e+00 -6.06890968e-01]\n",
      "   [-3.77323479e-01  3.94474437e-01 -8.02608200e-01]\n",
      "   [-1.10729087e+00 -1.50010314e+00  3.79184925e-01]\n",
      "   [ 7.69445731e-01  2.68486851e+00 -6.23581589e-01]\n",
      "   [-2.65785136e-01  1.61283000e+00  2.21158629e+00]\n",
      "   [ 1.41993330e+00  1.91658516e-01  2.83941529e-02]\n",
      "   [ 8.39779293e-01  4.41270517e-01 -1.04368537e-01]\n",
      "   [-2.45486656e-01  3.01478907e-01  3.52391231e-01]]\n",
      "\n",
      "  [[ 5.50318283e-01  4.85199949e-03  1.66721613e-01]\n",
      "   [ 1.82325529e-01  2.19353226e-02 -2.44363031e+00]\n",
      "   [-2.49119180e-01  1.08516632e+00  3.16022901e-01]\n",
      "   [ 3.45268101e-02 -5.63385329e-01 -1.10862351e+00]\n",
      "   [ 6.62309907e-01 -3.03752924e-01 -1.76534069e+00]\n",
      "   [ 1.06300831e+00  1.62698300e+00 -1.22120128e-01]\n",
      "   [-6.35594474e-01  9.93615553e-01 -2.74604206e-03]\n",
      "   [ 9.36720268e-01 -1.02920745e+00 -5.59242495e-01]]]]\n",
      "(2, 7, 8, 3)\n"
     ]
    }
   ],
   "source": [
    "print(b)\n",
    "print(b.shape)"
   ]
  },
  {
   "cell_type": "code",
   "execution_count": 10,
   "metadata": {},
   "outputs": [
    {
     "name": "stdout",
     "output_type": "stream",
     "text": [
      "(9, 9)\n",
      "(6,)\n",
      "(6, 6)\n"
     ]
    }
   ],
   "source": [
    "U, S, V_trans = np.linalg.svd(a, full_matrices=True)\n",
    "print(U.shape)\n",
    "print(S.shape)\n",
    "print(V_trans.shape)"
   ]
  },
  {
   "cell_type": "code",
   "execution_count": 18,
   "metadata": {},
   "outputs": [
    {
     "data": {
      "text/plain": [
       "array([[252, 276, 305, 448, 351],\n",
       "       [328, 178, 184, 399, 368],\n",
       "       [383, 398, 128, 347, 116],\n",
       "       [154, 263, 124, 130, 455],\n",
       "       [151, 450, 360, 487, 159],\n",
       "       [465, 254, 356, 332, 240],\n",
       "       [400, 354, 352, 260, 497],\n",
       "       [123,  83, 486, 416, 436],\n",
       "       [391,  86, 446, 498, 125],\n",
       "       [287, 336, 252, 446, 463],\n",
       "       [111, 261,  93, 274, 102],\n",
       "       [266, 370, 246, 339, 151],\n",
       "       [431, 443,  89, 246, 469],\n",
       "       [ 98, 449, 186, 312, 255],\n",
       "       [118, 346, 272, 478, 389],\n",
       "       [436, 356, 105,  86, 117],\n",
       "       [492, 407, 463, 425, 224],\n",
       "       [199, 383, 380, 441, 420],\n",
       "       [348, 422,  99, 476, 420],\n",
       "       [164, 188, 251, 499, 481]])"
      ]
     },
     "execution_count": 18,
     "metadata": {},
     "output_type": "execute_result"
    }
   ],
   "source": [
    "features = np.random.randint(50,500,size=100).reshape(20,5)\n",
    "\n",
    "features"
   ]
  },
  {
   "cell_type": "code",
   "execution_count": 22,
   "metadata": {},
   "outputs": [],
   "source": [
    "features_cov = np.cov(features)\n"
   ]
  },
  {
   "cell_type": "code",
   "execution_count": 23,
   "metadata": {},
   "outputs": [
    {
     "name": "stdout",
     "output_type": "stream",
     "text": [
      "(20, 20)\n"
     ]
    }
   ],
   "source": [
    "print(features_cov.shape)"
   ]
  },
  {
   "cell_type": "code",
   "execution_count": 25,
   "metadata": {},
   "outputs": [],
   "source": [
    "features_eig = np.linalg.eig(features_cov)"
   ]
  },
  {
   "cell_type": "code",
   "execution_count": 27,
   "metadata": {},
   "outputs": [],
   "source": [
    "feature_val, features_vec = features_eig"
   ]
  },
  {
   "cell_type": "code",
   "execution_count": 31,
   "metadata": {},
   "outputs": [
    {
     "data": {
      "text/plain": [
       "(20,)"
      ]
     },
     "execution_count": 31,
     "metadata": {},
     "output_type": "execute_result"
    }
   ],
   "source": [
    "feature_val.shape"
   ]
  },
  {
   "cell_type": "code",
   "execution_count": 30,
   "metadata": {},
   "outputs": [
    {
     "data": {
      "text/plain": [
       "(20, 20)"
      ]
     },
     "execution_count": 30,
     "metadata": {},
     "output_type": "execute_result"
    }
   ],
   "source": [
    "features_vec.shape"
   ]
  },
  {
   "cell_type": "code",
   "execution_count": 39,
   "metadata": {},
   "outputs": [
    {
     "data": {
      "text/plain": [
       "<matplotlib.collections.PathCollection at 0x7fdacfde2610>"
      ]
     },
     "execution_count": 39,
     "metadata": {},
     "output_type": "execute_result"
    },
    {
     "data": {
      "image/png": "[encoded data removed]",
      "text/plain": [
       "<Figure size 432x288 with 1 Axes>"
      ]
     },
     "metadata": {
      "needs_background": "light"
     },
     "output_type": "display_data"
    }
   ],
   "source": [
    "X, y = np.meshgrid(np.arange(0,10), np.arange(0,10))\n",
    "\n",
    "plt.grid()\n",
    "plt.scatter(X,y, color='red')\n"
   ]
  },
  {
   "cell_type": "code",
   "execution_count": 44,
   "metadata": {},
   "outputs": [
    {
     "data": {
      "image/png": "[encoded data removed]",
      "text/plain": [
       "<Figure size 432x288 with 1 Axes>"
      ]
     },
     "metadata": {
      "needs_background": "light"
     },
     "output_type": "display_data"
    }
   ],
   "source": [
    "fig, ax = plt.subplots(1,1)\n",
    "ax.grid()\n",
    "\n",
    "for row in range(len(features[0])):\n",
    "    for col in range(len(features[1])):\n",
    "        ax.plot([features[0][row]], [features[1][col]], 'o')\n",
    "plt.show()"
   ]
  },
  {
   "cell_type": "code",
   "execution_count": 45,
   "metadata": {},
   "outputs": [
    {
     "data": {
      "image/png": "[encoded data removed]",
      "text/plain": [
       "<Figure size 432x288 with 1 Axes>"
      ]
     },
     "metadata": {
      "needs_background": "light"
     },
     "output_type": "display_data"
    }
   ],
   "source": [
    "fig, ax = plt.subplots(1,1)\n",
    "ax.grid()\n",
    "\n",
    "for row in range(len(features_cov[0])):\n",
    "    for col in range(len(features_cov[1])):\n",
    "        ax.plot([features_cov[0][row]], [features_cov[1][col]], 'o')\n",
    "plt.show()"
   ]
  },
  {
   "cell_type": "code",
   "execution_count": 52,
   "metadata": {},
   "outputs": [
    {
     "data": {
      "text/plain": [
       "-4.291820050728591e-168"
      ]
     },
     "execution_count": 52,
     "metadata": {},
     "output_type": "execute_result"
    }
   ],
   "source": [
    "np.linalg.det(features_cov)"
   ]
  },
  {
   "cell_type": "code",
   "execution_count": null,
   "metadata": {},
   "outputs": [],
   "source": []
  }
 ],
 "metadata": {
  "kernelspec": {
   "display_name": "Python 3.9.7 ('statsmodelLearning')",
   "language": "python",
   "name": "python3"
  },
  "language_info": {
   "codemirror_mode": {
    "name": "ipython",
    "version": 3
   },
   "file_extension": ".py",
   "mimetype": "text/x-python",
   "name": "python",
   "nbconvert_exporter": "python",
   "pygments_lexer": "ipython3",
   "version": "3.9.7"
  },
  "orig_nbformat": 4,
  "vscode": {
   "interpreter": {
    "hash": "e1b2a0e469cc19f65251a340c8f8a96aa62efb838846ad2e1d6d9fd3e94f6b7f"
   }
  }
 },
 "nbformat": 4,
 "nbformat_minor": 2
}
