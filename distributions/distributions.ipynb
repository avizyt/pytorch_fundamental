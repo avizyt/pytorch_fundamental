{
 "cells": [
  {
   "cell_type": "code",
   "execution_count": 1,
   "metadata": {},
   "outputs": [],
   "source": [
    "import numpy as np\n",
    "import pandas as pd\n",
    "import matplotlib.pyplot as plt\n",
    "import seaborn as sns"
   ]
  },
  {
   "cell_type": "markdown",
   "metadata": {},
   "source": [
    "Probability of occuring a very rare event independently in a time interval"
   ]
  },
  {
   "cell_type": "code",
   "execution_count": 3,
   "metadata": {},
   "outputs": [],
   "source": [
    "def possionDist(lamb, events):\n",
    "    fact_events = np.math.factorial(events)\n",
    "    nominator = (lamb** events) * np.exp(-lamb)\n",
    "    return nominator/fact_events"
   ]
  },
  {
   "cell_type": "markdown",
   "metadata": {},
   "source": [
    "Overflow floods occur once every 100 years on a average."
   ]
  },
  {
   "cell_type": "code",
   "execution_count": 5,
   "metadata": {},
   "outputs": [],
   "source": [
    "Proba_of_zero_flood = possionDist(1,0)"
   ]
  },
  {
   "cell_type": "code",
   "execution_count": 6,
   "metadata": {},
   "outputs": [],
   "source": [
    "floods = np.arange(0,100,2)"
   ]
  },
  {
   "cell_type": "code",
   "execution_count": 15,
   "metadata": {},
   "outputs": [
    {
     "name": "stdout",
     "output_type": "stream",
     "text": [
      "0 floods : probability 0.36787944117144233\n",
      "2 floods : probability 0.18393972058572117\n",
      "4 floods : probability 0.015328310048810098\n",
      "6 floods : probability 0.0005109436682936699\n",
      "8 floods : probability 9.123994076672677e-06\n",
      "10 floods : probability 1.0137771196302975e-07\n",
      "12 floods : probability 7.68012969416892e-10\n",
      "14 floods : probability 4.2198514803125934e-12\n",
      "16 floods : probability 1.7582714501302472e-14\n",
      "18 floods : probability 5.745985131144599e-17\n",
      "20 floods : probability 1.5121013503012103e-19\n",
      "22 floods : probability 3.272946645673615e-22\n",
      "24 floods : probability 5.929251169698579e-25\n",
      "26 floods : probability 9.121924876459351e-28\n",
      "28 floods : probability 1.2066038196374804e-30\n",
      "30 floods : probability 1.3869009421120463e-33\n",
      "32 floods : probability 1.398085627129079e-36\n",
      "34 floods : probability 1.2460656213271648e-39\n",
      "36 floods : probability 9.889409693072736e-43\n",
      "38 floods : probability 7.033719554105787e-46\n",
      "40 floods : probability 4.508794585965248e-49\n",
      "42 floods : probability 2.6183476108973566e-52\n",
      "44 floods : probability 1.3839046569224929e-55\n",
      "46 floods : probability 6.685529743586922e-59\n",
      "48 floods : probability 2.9634440352778914e-62\n",
      "50 floods : probability 1.209568993990976e-65\n",
      "52 floods : probability 4.560969057281207e-69\n",
      "54 floods : probability 1.5936299990500373e-72\n",
      "56 floods : probability 5.174123373539082e-76\n",
      "58 floods : probability 1.5650705909071636e-79\n",
      "60 floods : probability 4.4211033641445295e-83\n",
      "62 floods : probability 1.168985553713519e-86\n",
      "64 floods : probability 2.8992697264720217e-90\n",
      "66 floods : probability 6.758204490610773e-94\n",
      "68 floods : probability 1.4833635844185191e-97\n",
      "70 floods : probability 3.071146137512462e-101\n",
      "72 floods : probability 6.007719361331107e-105\n",
      "74 floods : probability 1.1121287229417082e-108\n",
      "76 floods : probability 1.9511030227047508e-112\n",
      "78 floods : probability 3.248589781393192e-116\n",
      "80 floods : probability 5.140173704736063e-120\n",
      "82 floods : probability 7.738894466630627e-124\n",
      "84 floods : probability 1.1099963377267108e-127\n",
      "86 floods : probability 1.5184628423074018e-131\n",
      "88 floods : probability 1.9833631691580485e-135\n",
      "90 floods : probability 2.476108825415791e-139\n",
      "92 floods : probability 2.9576072926610017e-143\n",
      "94 floods : probability 3.383215846100437e-147\n",
      "96 floods : probability 3.709666497917146e-151\n",
      "98 floods : probability 3.9024473994499744e-155\n"
     ]
    }
   ],
   "source": [
    "proba = []\n",
    "for flood in floods:\n",
    "    temp_proba = possionDist(1,flood)\n",
    "    proba.append(temp_proba)\n",
    "    print(f\"{flood} floods : probability {temp_proba}\")"
   ]
  },
  {
   "cell_type": "code",
   "execution_count": 16,
   "metadata": {},
   "outputs": [
    {
     "data": {
      "image/png": "[encoded data removed]",
      "text/plain": [
       "<Figure size 432x288 with 1 Axes>"
      ]
     },
     "metadata": {
      "needs_background": "light"
     },
     "output_type": "display_data"
    }
   ],
   "source": [
    "plt.plot(floods, proba)\n",
    "plt.show()"
   ]
  },
  {
   "cell_type": "code",
   "execution_count": 17,
   "metadata": {},
   "outputs": [
    {
     "data": {
      "text/plain": [
       "0.011353352832366128"
      ]
     },
     "execution_count": 17,
     "metadata": {},
     "output_type": "execute_result"
    }
   ],
   "source": [
    "np.mean(proba)"
   ]
  },
  {
   "cell_type": "code",
   "execution_count": 18,
   "metadata": {},
   "outputs": [
    {
     "data": {
      "text/plain": [
       "0.0032591878250919654"
      ]
     },
     "execution_count": 18,
     "metadata": {},
     "output_type": "execute_result"
    }
   ],
   "source": [
    "np.var(proba)"
   ]
  },
  {
   "cell_type": "code",
   "execution_count": null,
   "metadata": {},
   "outputs": [],
   "source": []
  },
  {
   "cell_type": "code",
   "execution_count": 19,
   "metadata": {},
   "outputs": [
    {
     "data": {
      "text/plain": [
       "array([0, 1, 0, 0, 0, 1, 0, 0, 0, 0, 1, 0, 1, 1, 0, 0, 0, 1, 0, 1, 0, 0,\n",
       "       1, 0, 1, 0, 1, 0, 1, 1, 0, 0, 1, 0, 1, 0, 1, 0, 1, 0, 1, 1, 1, 1,\n",
       "       1, 1, 1, 0, 0, 1, 1, 0, 0, 0, 0, 1, 1, 1, 1, 1, 1, 1, 0, 0, 0, 0,\n",
       "       1, 0, 1, 1, 0, 1, 1, 0, 0, 1, 1, 1, 0, 0, 0, 0, 0, 1, 1, 1, 1, 0,\n",
       "       1, 1, 0, 0, 0, 1, 0, 0, 0, 0, 1, 1])"
      ]
     },
     "execution_count": 19,
     "metadata": {},
     "output_type": "execute_result"
    }
   ],
   "source": [
    "np.random.binomial(1,0.5,100)"
   ]
  },
  {
   "cell_type": "code",
   "execution_count": 24,
   "metadata": {},
   "outputs": [
    {
     "data": {
      "text/plain": [
       "array([0.5, 0.6, 0.7])"
      ]
     },
     "execution_count": 24,
     "metadata": {},
     "output_type": "execute_result"
    }
   ],
   "source": [
    "np.linspace(0.5,0.7,3)"
   ]
  },
  {
   "cell_type": "markdown",
   "metadata": {},
   "source": []
  },
  {
   "cell_type": "code",
   "execution_count": null,
   "metadata": {},
   "outputs": [],
   "source": []
  }
 ],
 "metadata": {
  "interpreter": {
   "hash": "e1b2a0e469cc19f65251a340c8f8a96aa62efb838846ad2e1d6d9fd3e94f6b7f"
  },
  "kernelspec": {
   "display_name": "Python 3.9.7 ('statsmodelLearning')",
   "language": "python",
   "name": "python3"
  },
  "language_info": {
   "codemirror_mode": {
    "name": "ipython",
    "version": 3
   },
   "file_extension": ".py",
   "mimetype": "text/x-python",
   "name": "python",
   "nbconvert_exporter": "python",
   "pygments_lexer": "ipython3",
   "version": "3.9.7"
  },
  "orig_nbformat": 4
 },
 "nbformat": 4,
 "nbformat_minor": 2
}
